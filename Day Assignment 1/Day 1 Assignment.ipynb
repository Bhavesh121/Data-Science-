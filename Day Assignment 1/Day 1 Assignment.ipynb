{
 "cells": [
  {
   "cell_type": "code",
   "execution_count": 1,
   "metadata": {},
   "outputs": [
    {
     "name": "stdout",
     "output_type": "stream",
     "text": [
      "B is correct\n"
     ]
    }
   ],
   "source": [
    "                                               #Assignment Day 1\n",
    "                                               \n",
    "                                                #Question 1\n",
    "\n",
    "correctOption=\"RAINBOW\"\n",
    "a= \"RANIBOW\"\n",
    "b= \"RAINBOW\"\n",
    "c= \"BOWRANI\"\n",
    "d= \"ROBWANI\"\n",
    "\n",
    "if correctOption == a:\n",
    "    print(\"A is correct\")\n",
    "    \n",
    "elif correctOption == b:\n",
    "    print(\"B is correct\")\n",
    "    \n",
    "elif correctOption == c:\n",
    "    print(\"C is correct\")\n",
    "    \n",
    "else:\n",
    "    print(\"D is correct\")\n",
    "    "
   ]
  },
  {
   "cell_type": "code",
   "execution_count": 2,
   "metadata": {},
   "outputs": [
    {
     "name": "stdout",
     "output_type": "stream",
     "text": [
      "LETS UPGRADE\n"
     ]
    }
   ],
   "source": [
    "                                                   #Question 2\n",
    "    \n",
    "    \n",
    "print(\"LETS UPGRADE\")\n",
    "\n",
    "\n",
    "\n"
   ]
  },
  {
   "cell_type": "code",
   "execution_count": null,
   "metadata": {},
   "outputs": [],
   "source": [
    "                                                   #Question 3\n",
    "\n",
    "cost=int(input(\"What is cost price =\"))\n",
    "sell=int(input(\"what is sell price =\"))\n",
    "\n",
    "if cost>sell:\n",
    "    print(\"Loss\")\n",
    "    \n",
    "elif sell>cost:\n",
    "    print(\"Profit\")\n",
    "    \n",
    "else:\n",
    "    print(\"Neither\")"
   ]
  },
  {
   "cell_type": "code",
   "execution_count": null,
   "metadata": {},
   "outputs": [],
   "source": [
    "                                        #Question 4\n",
    " \n",
    "E=int(input(\"Euro\"))\n",
    "\n",
    "print(\"Euals to Rupees\",E*80)\n"
   ]
  },
  {
   "cell_type": "code",
   "execution_count": null,
   "metadata": {},
   "outputs": [],
   "source": [
    "\n",
    "                                                 \n"
   ]
  },
  {
   "cell_type": "code",
   "execution_count": null,
   "metadata": {},
   "outputs": [],
   "source": []
  },
  {
   "cell_type": "code",
   "execution_count": null,
   "metadata": {},
   "outputs": [],
   "source": []
  }
 ],
 "metadata": {
  "kernelspec": {
   "display_name": "Python 3",
   "language": "python",
   "name": "python3"
  },
  "language_info": {
   "codemirror_mode": {
    "name": "ipython",
    "version": 3
   },
   "file_extension": ".py",
   "mimetype": "text/x-python",
   "name": "python",
   "nbconvert_exporter": "python",
   "pygments_lexer": "ipython3",
   "version": "3.8.3"
  }
 },
 "nbformat": 4,
 "nbformat_minor": 4
}
