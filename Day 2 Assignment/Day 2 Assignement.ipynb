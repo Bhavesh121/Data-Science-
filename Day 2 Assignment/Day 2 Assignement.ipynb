{
 "cells": [
  {
   "cell_type": "code",
   "execution_count": 4,
   "metadata": {},
   "outputs": [
    {
     "name": "stdout",
     "output_type": "stream",
     "text": [
      "1\n",
      "2\n",
      "3\n",
      "4\n",
      "5\n",
      "6\n",
      "7\n",
      "8\n",
      "9\n",
      "10\n",
      "[2, 4, 6, 8, 10]\n"
     ]
    }
   ],
   "source": [
    "                                                #Assignment\n",
    "\n",
    "                                                #Question 1\n",
    "        \n",
    "list_1=[]\n",
    "\n",
    "for i in range(10):\n",
    "    \n",
    "    input_1=int(input())\n",
    "    \n",
    "    if input_1%2==0:\n",
    "        \n",
    "        list_1.append(input_1)\n",
    "        \n",
    "print(list_1)\n",
    "\n",
    "    \n",
    "    \n",
    "\n"
   ]
  },
  {
   "cell_type": "code",
   "execution_count": 25,
   "metadata": {},
   "outputs": [
    {
     "name": "stdout",
     "output_type": "stream",
     "text": [
      "Enter keys you want=10\n",
      "{1: 1, 2: 4, 3: 9, 4: 16, 5: 25, 6: 36, 7: 49, 8: 64, 9: 81, 10: 100}\n"
     ]
    }
   ],
   "source": [
    "                                                #Queestion 3\n",
    "\n",
    "\n",
    "\n",
    "inp_2=int(input(\"Enter keys you want=\"))\n",
    "\n",
    "dic={}\n",
    "\n",
    "for i in range(1,inp_2+1):\n",
    "    dic[i]=i*i\n",
    "print(dic)\n"
   ]
  },
  {
   "cell_type": "code",
   "execution_count": 63,
   "metadata": {
    "scrolled": true
   },
   "outputs": [
    {
     "name": "stdout",
     "output_type": "stream",
     "text": [
      "Up5\n",
      "Down3\n",
      "Left3\n",
      "Right2\n",
      "2\n"
     ]
    }
   ],
   "source": [
    "\n",
    "                                                    #Question 4 \n",
    "\n",
    "from math import sqrt\n",
    "\n",
    "\n",
    "up=(int(input(\"Up\")))\n",
    "\n",
    "down=(int(input(\"Down\")))\n",
    "\n",
    "left=(int(input(\"Left\")))\n",
    "\n",
    "right=(int(input(\"Right\")))\n",
    "\n",
    "\n",
    "\n",
    "\n",
    "x2= up-down\n",
    "y2= right-left\n",
    "\n",
    "Distance=(x2-0)**2 +(y2-0)**2\n",
    "\n",
    "final=sqrt(Distance)\n",
    "print(int(round(final)))\n",
    "\n"
   ]
  },
  {
   "cell_type": "markdown",
   "metadata": {},
   "source": []
  },
  {
   "cell_type": "code",
   "execution_count": 52,
   "metadata": {},
   "outputs": [
    {
     "data": {
      "text/plain": [
       "3"
      ]
     },
     "execution_count": 52,
     "metadata": {},
     "output_type": "execute_result"
    }
   ],
   "source": []
  },
  {
   "cell_type": "code",
   "execution_count": null,
   "metadata": {},
   "outputs": [],
   "source": []
  }
 ],
 "metadata": {
  "kernelspec": {
   "display_name": "Python 3",
   "language": "python",
   "name": "python3"
  },
  "language_info": {
   "codemirror_mode": {
    "name": "ipython",
    "version": 3
   },
   "file_extension": ".py",
   "mimetype": "text/x-python",
   "name": "python",
   "nbconvert_exporter": "python",
   "pygments_lexer": "ipython3",
   "version": "3.8.3"
  }
 },
 "nbformat": 4,
 "nbformat_minor": 4
}
